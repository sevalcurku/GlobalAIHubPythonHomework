{
  "nbformat": 4,
  "nbformat_minor": 0,
  "metadata": {
    "colab": {
      "name": "homework2..ipynb",
      "provenance": [],
      "collapsed_sections": []
    },
    "kernelspec": {
      "name": "python3",
      "display_name": "Python 3"
    },
    "accelerator": "GPU"
  },
  "cells": [
    {
      "cell_type": "code",
      "metadata": {
        "id": "SGZRZwTtk4VE"
      },
      "source": [
        "#18 yaş sınırına takılan örnek\r\n",
        "\r\n",
        "ad = input(\"adınız?\")\r\n",
        "soyadı = input(\"soyadınız?\")\r\n",
        "yaş = int(input(\"yaşınız?\"))\r\n",
        "dt = int(input(\"doğum tarihiniz?\"))\r\n",
        "\r\n",
        "\r\n",
        "mylist = [ad,soyadı,yaş,dt]\r\n",
        "print(mylist)\r\n",
        "i=0\r\n",
        "for i in mylist:\r\n",
        "   print(i)\r\n",
        "\r\n",
        "if yaş<18:\r\n",
        "   print(\"çok tehlikeli olduğu için dışarı çıkamazsın\")\r\n",
        "elif yaş>18:\r\n",
        "  print(\"sokağa çıkabilirsin\")\r\n",
        "else:\r\n",
        "  print(\"negatif değer giremezsin\")"
      ],
      "execution_count": null,
      "outputs": []
    }
  ]
}