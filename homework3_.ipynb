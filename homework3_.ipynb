{
  "nbformat": 4,
  "nbformat_minor": 0,
  "metadata": {
    "colab": {
      "name": "homework3..ipynb",
      "provenance": [],
      "collapsed_sections": []
    },
    "kernelspec": {
      "name": "python3",
      "display_name": "Python 3"
    },
    "accelerator": "GPU"
  },
  "cells": [
    {
      "cell_type": "code",
      "metadata": {
        "id": "ydMeK7p_6pwJ"
      },
      "source": [
        "import random\r\n",
        "ad = input(\"adınız?\")\r\n",
        "print(ad)\r\n",
        "print(\"Welcome  {}\".format(ad))\r\n",
        "print(\"4 basamaklı rakamları farklı sayı girmeni istiyorum bakalım benimle aynı sayımı olacak:) ==> {}\".format(ad))\r\n",
        "n = 4\r\n",
        "bulundu = 0\r\n",
        "yerinde = 0\r\n",
        "b = True\r\n",
        "while b == True:\r\n",
        "    r = random.randint(1000, 9999)\r\n",
        "    rstr = str(r)\r\n",
        "    b = False\r\n",
        "    for i in range(0, n - 1):\r\n",
        "        for j  in range(i + 1, n):\r\n",
        "            if rstr[i] == rstr[j]: b = True\r\n",
        "\r\n",
        "print(\"oyun başlıyor kolay gelsin:).\")\r\n",
        "\r\n",
        "cikis = \"0000\"\r\n",
        "tstr = \"\"\r\n",
        "while tstr != cikis:\r\n",
        "    b = True\r\n",
        "    while b == True:\r\n",
        "        tstr = input(\"tahmininiz?. (0000-oyundan çıkar) :\")\r\n",
        "        if tstr == cikis:\r\n",
        "            print(\"üzgünüm olmadı:(.\")\r\n",
        "            print(\"tuttuğum sayı\", rstr, \"idi.\")\r\n",
        "            tstr = cikis\r\n",
        "            break\r\n",
        "        if tstr != cikis:\r\n",
        "            b = False\r\n",
        "            for i in range(0, n - 1):\r\n",
        "                for j in range(i + 1, n):\r\n",
        "                    if tstr[i] == tstr[j]: b = True\r\n",
        "            if b == True:\r\n",
        "                print(\"girilen sayının rakamları farklı olmalı unutma.\")\r\n",
        "    if tstr != cikis:\r\n",
        "        bulundu = 0; yerinde = 0\r\n",
        "        for i in range(n):\r\n",
        "            if rstr.find(tstr[i]) > -1: bulundu += 1\r\n",
        "            if rstr[i] == tstr[i]: yerinde += 1\r\n",
        "        print(bulundu, \"tane bulundu...\")\r\n",
        "        print(yerinde, \"tane yerinde...\")\r\n",
        "        \r\n",
        "    if yerinde == n:\r\n",
        "        print(\"tebrikler oyunu kazandınız...\")\r\n",
        "        tstr = cikis"
      ],
      "execution_count": null,
      "outputs": []
    }
  ]
}