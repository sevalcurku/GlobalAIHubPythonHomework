{
  "nbformat": 4,
  "nbformat_minor": 0,
  "metadata": {
    "colab": {
      "name": "homework1..ipynb",
      "provenance": [],
      "collapsed_sections": []
    },
    "kernelspec": {
      "name": "python3",
      "display_name": "Python 3"
    },
    "accelerator": "GPU"
  },
  "cells": [
    {
      "cell_type": "code",
      "metadata": {
        "id": "sUUh8RjWBRsU"
      },
      "source": [
        "#kişisel 5 bilgi\r\n",
        "\r\n",
        "isim = input(\"isminiz?\")\r\n",
        "yaş = int(input(\"yaşınız?\"))\r\n",
        "boy = float(input(\"boyunuz?\"))\r\n",
        "kilo = int(input(\"kilonuz?\"))\r\n",
        "dy = input(\"doğum yeriniz?\")\r\n",
        "\r\n",
        "#cevapların çıktısı ve türleri\r\n",
        "\r\n",
        "print(f\"Senin adın {isim}.\")\r\n",
        "print(type(isim))\r\n",
        "\r\n",
        "print(\"Hello {}\".format(isim))\r\n",
        "\r\n",
        "\r\n",
        "print(f\"Senin yaşın {yaş}.\")\r\n",
        "print(\"sağlıklı yaşlar dilerim:) {}\".format(isim))\r\n",
        "print(type(yaş))\r\n",
        "\r\n",
        "\r\n",
        "print(f\"Senin boyun {boy} cm.\")\r\n",
        "print(type(boy))\r\n",
        "\r\n",
        "print(f\"Senin kilon {kilo}.\")\r\n",
        "print(type(kilo))\r\n",
        "\r\n",
        "print(f\"Senin doğduğun yer {dy}.\")\r\n",
        "print(type(dy))\r\n",
        "\r\n"
      ],
      "execution_count": null,
      "outputs": []
    }
  ]
}